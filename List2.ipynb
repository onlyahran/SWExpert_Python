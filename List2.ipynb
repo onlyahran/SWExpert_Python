{
 "cells": [
  {
   "cell_type": "code",
   "execution_count": null,
   "metadata": {},
   "outputs": [],
   "source": [
    "# 이진탐색\n",
    "\n",
    "import sys\n",
    "sys.stdin = open(\"C:/Users/tfg256xg/Downloads/1.txt\", \"r\")\n",
    "T = int(input()) # 테스트 케이스 수\n",
    "for T in range(1, T+1):\n",
    "    P, A, B = map(int, input().split())\n",
    "    test = [i for i in range(1, P + 1)] // test[0], test[len(test)]\n",
    "    key = [A, B]\n",
    "    val = []\n",
    "    for j in range(0, 2):\n",
    "        low = 0  # test의 0번 인덱스\n",
    "        high = len(test) - 1  # test의 마지막 인덱스\n",
    "        if key[j] <= test[high]:  # 찾고자하는 값(key)는 high 보다 클 수 없음\n",
    "            i = 0\n",
    "            while low <= high:\n",
    "                i = i + 1\n",
    "                middle = int((low + high) / 2)\n",
    "                print(\"test[middle]\", test[middle], \"low\", low, \"high\", high)\n",
    "                if key[j] == test[middle]:\n",
    "                    break\n",
    "                elif key[j] < test[middle]:\n",
    "                    high = middle - 1\n",
    "                else:\n",
    "                    low = middle + 1\n",
    "            val.append([j, i])\n",
    "            print(val)\n",
    "\n",
    "    if val[0][1] == val[1][1]:\n",
    "        print('#%d %s' %(T, '0'))\n",
    "    elif val[0][1] > val[1][1]:\n",
    "        print('#%d %s' %(T, 'B'))\n",
    "    else:\n",
    "        print('#%d %s' %(T, 'A'))"
   ]
  }
 ],
 "metadata": {
  "kernelspec": {
   "display_name": "Python 3",
   "language": "python",
   "name": "python3"
  },
  "language_info": {
   "codemirror_mode": {
    "name": "ipython",
    "version": 3
   },
   "file_extension": ".py",
   "mimetype": "text/x-python",
   "name": "python",
   "nbconvert_exporter": "python",
   "pygments_lexer": "ipython3",
   "version": "3.7.6"
  }
 },
 "nbformat": 4,
 "nbformat_minor": 4
}
